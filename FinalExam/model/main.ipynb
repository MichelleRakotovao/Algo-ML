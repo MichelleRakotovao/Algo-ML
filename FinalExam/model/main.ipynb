{
 "cells": [
  {
   "cell_type": "code",
   "execution_count": null,
   "id": "d59b5793",
   "metadata": {},
   "outputs": [],
   "source": [
    "import joblib\n",
    "\n",
    "# Charger le modèle et les encodeurs\n",
    "clf = joblib.load('tictactoe_model.joblib')\n",
    "le_board = joblib.load('encoder_board.joblib')\n",
    "le_move = joblib.load('encoder_move.joblib')"
   ]
  },
  {
   "cell_type": "code",
   "execution_count": 5,
   "id": "3ef58d4f",
   "metadata": {},
   "outputs": [],
   "source": [
    "def predict_best_move(board_list, model, le_board, le_move):\n",
    "    \"\"\"\n",
    "    Prédit le meilleur coup à jouer à partir d'un plateau.\n",
    "    board_list : liste de 9 caractères ('X', 'O', ' ')\n",
    "    \"\"\"\n",
    "    if len(board_list) != 9:\n",
    "        raise ValueError(\"Le plateau doit contenir exactement 9 cases.\")\n",
    "    \n",
    "    encoded = le_board.transform(board_list).reshape(1, -1)\n",
    "    move_encoded = model.predict(encoded)\n",
    "    move = le_move.inverse_transform(move_encoded)[0]\n",
    "    return move\n",
    "\n",
    "def display_predicted_board(board, predicted_move):\n",
    "    \"\"\"\n",
    "    Affiche le plateau avec la case prédite mise en évidence.\n",
    "    \"\"\"\n",
    "    print(\"\\nPlateau actuel avec suggestion de l'IA :\\n\")\n",
    "    move_i, move_j = map(int, predicted_move.split(','))\n",
    "    index = move_i * 3 + move_j\n",
    "\n",
    "    for i in range(3):\n",
    "        row = \"\"\n",
    "        for j in range(3):\n",
    "            idx = i * 3 + j\n",
    "            if idx == index:\n",
    "                cell = board[idx] if board[idx] != ' ' else '*'\n",
    "            else:\n",
    "                cell = board[idx]\n",
    "            row += f\" {cell} \"\n",
    "            if j < 2:\n",
    "                row += \"|\"\n",
    "        print(row)\n",
    "        if i < 2:\n",
    "            print(\"---+---+---\")\n",
    "    print(f\"\\n🧠 Suggestion IA : jouer en ({move_i}, {move_j})\\n\")"
   ]
  },
  {
   "cell_type": "code",
   "execution_count": 6,
   "id": "1eb68af1",
   "metadata": {},
   "outputs": [
    {
     "name": "stdout",
     "output_type": "stream",
     "text": [
      "\n",
      "Plateau actuel avec suggestion de l'IA :\n",
      "\n",
      "   | X | * \n",
      "---+---+---\n",
      "   | O |   \n",
      "---+---+---\n",
      "   |   | X \n",
      "\n",
      "🧠 Suggestion IA : jouer en (0, 2)\n",
      "\n"
     ]
    }
   ],
   "source": [
    "board = [' ', 'X', ' ', ' ', 'O', ' ', ' ', ' ', 'X']\n",
    "predicted = predict_best_move(board, clf, le_board, le_move)\n",
    "display_predicted_board(board, predicted)"
   ]
  }
 ],
 "metadata": {
  "kernelspec": {
   "display_name": "base",
   "language": "python",
   "name": "python3"
  },
  "language_info": {
   "codemirror_mode": {
    "name": "ipython",
    "version": 3
   },
   "file_extension": ".py",
   "mimetype": "text/x-python",
   "name": "python",
   "nbconvert_exporter": "python",
   "pygments_lexer": "ipython3",
   "version": "3.12.7"
  }
 },
 "nbformat": 4,
 "nbformat_minor": 5
}
