{
 "cells": [
  {
   "cell_type": "code",
   "execution_count": 2,
   "id": "1ad2919e",
   "metadata": {},
   "outputs": [],
   "source": [
    "import pandas as pd\n",
    "from sklearn.ensemble import RandomForestClassifier\n",
    "from sklearn.preprocessing import LabelEncoder\n",
    "from sklearn.model_selection import train_test_split\n",
    "from sklearn.metrics import accuracy_score"
   ]
  },
  {
   "cell_type": "code",
   "execution_count": 6,
   "id": "d25dd167",
   "metadata": {},
   "outputs": [],
   "source": [
    "df = pd.read_csv('data/tictactoe_dataset.csv')\n",
    "df['board_list'] = df['board_state'].apply(list)\n",
    "\n",
    "# === 3. Encodage des caractères du plateau ('X', 'O', ' ') ===\n",
    "le_board = LabelEncoder()\n",
    "all_cells = sum(df['board_list'].tolist(), [])  # aplatit la liste\n",
    "le_board.fit(all_cells)\n",
    "\n",
    "X_encoded = [le_board.transform(row) for row in df['board_list']]\n",
    "# === 4. Encodage des coups 'i,j' ===\n",
    "le_move = LabelEncoder()\n",
    "y_encoded = le_move.fit_transform(df['best_move'])"
   ]
  },
  {
   "cell_type": "code",
   "execution_count": 18,
   "id": "a2591d49",
   "metadata": {},
   "outputs": [
    {
     "name": "stdout",
     "output_type": "stream",
     "text": [
      "Précision du modèle : 0.65\n",
      "O |   |  \n",
      "----------\n",
      "  | X |  \n",
      "----------\n",
      "  |   |  \n",
      "\n",
      "Plateau actuel avec suggestion de l'IA :\n",
      "\n",
      " O | * |   \n",
      "---+---+---\n",
      "   | X |   \n",
      "---+---+---\n",
      "   |   |   \n",
      "\n",
      "🧠 Suggestion IA : jouer en (0, 1)\n",
      "\n"
     ]
    }
   ],
   "source": [
    "\n",
    "\n",
    "# === 5. Split train/test ===\n",
    "X_train, X_test, y_train, y_test = train_test_split(X_encoded, y_encoded, test_size=0.2, random_state=42)\n",
    "\n",
    "# === 6. Entraînement du modèle ===\n",
    "clf = RandomForestClassifier(n_estimators=100)\n",
    "clf.fit(X_train, y_train)\n",
    "\n",
    "# === 7. Évaluation ===\n",
    "y_pred = clf.predict(X_test)\n",
    "acc = accuracy_score(y_test, y_pred)\n",
    "print(f\"Précision du modèle : {acc:.2f}\")\n",
    "\n",
    "def predict_best_move(board_list, model, le_board, le_move):\n",
    "    \"\"\"\n",
    "    board_list : liste de 9 caractères ['X', 'O', ' ', ...]\n",
    "    model      : le modèle entraîné (ex: clf)\n",
    "    le_board   : LabelEncoder entraîné sur les cases du plateau\n",
    "    le_move    : LabelEncoder entraîné sur les coups à jouer ('0,0', etc.)\n",
    "\n",
    "    return : meilleur coup sous forme de string 'i,j'\n",
    "    \"\"\"\n",
    "    if len(board_list) != 9:\n",
    "        raise ValueError(\"Le plateau doit contenir exactement 9 cases.\")\n",
    "    \n",
    "    encoded = le_board.transform(board_list).reshape(1, -1)\n",
    "    move_encoded = model.predict(encoded)\n",
    "    move = le_move.inverse_transform(move_encoded)[0]\n",
    "    return move\n",
    "\n",
    "def print_board(b):\n",
    "    for i in range(3):\n",
    "        print(\" | \".join(b[i*3:(i+1)*3]))\n",
    "        if i < 2:\n",
    "            print(\"-\" * 10)\n",
    "            \n",
    "def display_predicted_board(board, predicted_move):\n",
    "    \"\"\"\n",
    "    Affiche un plateau avec le coup suggéré mis en évidence.\n",
    "    \n",
    "    board : liste de 9 caractères ('X', 'O', ' ')\n",
    "    predicted_move : string sous forme 'i,j' (ex: '1,2')\n",
    "    \"\"\"\n",
    "    print(\"\\nPlateau actuel avec suggestion de l'IA :\\n\")\n",
    "    move_i, move_j = map(int, predicted_move.split(','))\n",
    "    index = move_i * 3 + move_j\n",
    "\n",
    "    for i in range(3):\n",
    "        row = \"\"\n",
    "        for j in range(3):\n",
    "            idx = i * 3 + j\n",
    "            if idx == index:\n",
    "                cell = board[idx] if board[idx] != ' ' else '*'\n",
    "            else:\n",
    "                cell = board[idx]\n",
    "            row += f\" {cell} \"\n",
    "            if j < 2:\n",
    "                row += \"|\"\n",
    "        print(row)\n",
    "        if i < 2:\n",
    "            print(\"---+---+---\")\n",
    "    print(f\"\\n🧠 Suggestion IA : jouer en ({move_i}, {move_j})\\n\")\n",
    "\n",
    "\n",
    "\n",
    "board = ['O', ' ', ' ',\n",
    "         ' ', 'X', ' ',\n",
    "         ' ', ' ', ' ']\n",
    "\n",
    "print_board(board)\n",
    "\n",
    "predicted = predict_best_move(board, clf, le_board, le_move)\n",
    "display_predicted_board(board, predicted)\n",
    "\n",
    "\n"
   ]
  },
  {
   "cell_type": "code",
   "execution_count": 19,
   "id": "36984c25",
   "metadata": {},
   "outputs": [
    {
     "name": "stdout",
     "output_type": "stream",
     "text": [
      "Defaulting to user installation because normal site-packages is not writeable\n",
      "Requirement already satisfied: joblib in c:\\programdata\\anaconda3\\lib\\site-packages (1.4.2)\n",
      "Note: you may need to restart the kernel to use updated packages.\n"
     ]
    }
   ],
   "source": [
    "pip install joblib\n"
   ]
  },
  {
   "cell_type": "code",
   "execution_count": 20,
   "id": "6e98bf91",
   "metadata": {},
   "outputs": [
    {
     "data": {
      "text/plain": [
       "['encoder_move.joblib']"
      ]
     },
     "execution_count": 20,
     "metadata": {},
     "output_type": "execute_result"
    }
   ],
   "source": [
    "import joblib\n",
    "\n",
    "# Enregistre le modèle entraîné\n",
    "joblib.dump(clf, 'tictactoe_model.joblib')\n",
    "\n",
    "# Enregistre les encoders\n",
    "joblib.dump(le_board, 'encoder_board.joblib')\n",
    "joblib.dump(le_move, 'encoder_move.joblib')\n"
   ]
  }
 ],
 "metadata": {
  "kernelspec": {
   "display_name": "base",
   "language": "python",
   "name": "python3"
  },
  "language_info": {
   "codemirror_mode": {
    "name": "ipython",
    "version": 3
   },
   "file_extension": ".py",
   "mimetype": "text/x-python",
   "name": "python",
   "nbconvert_exporter": "python",
   "pygments_lexer": "ipython3",
   "version": "3.12.7"
  }
 },
 "nbformat": 4,
 "nbformat_minor": 5
}
